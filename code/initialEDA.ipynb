{
 "cells": [
  {
   "cell_type": "code",
   "execution_count": 1,
   "metadata": {},
   "outputs": [],
   "source": [
    "import pandas as pd\n",
    "import numpy as np\n",
    "import scipy.stats as st\n",
    "from sklearn.model_selection import train_test_split\n",
    "from sklearn.linear_model import LogisticRegression\n",
    "from sklearn.neighbors import KNeighborsClassifier\n",
    "from sklearn.dummy import DummyClassifier\n",
    "from sklearn import metrics # # from sklearn.metrics import roc_auc_score, confusion_matrix, roc_curve\n",
    "import matplotlib.pyplot as plt\n",
    "import seaborn as sns\n",
    "# %config InlineBackend.figure_formats = ['svg']\n",
    "%matplotlib inline\n",
    "\n",
    "plt.rcParams['figure.figsize'] = (9, 6)\n",
    "sns.set(context='notebook', style='whitegrid', font_scale=1.2)"
   ]
  },
  {
   "cell_type": "code",
   "execution_count": 2,
   "metadata": {},
   "outputs": [],
   "source": [
    "base_df = pd.read_csv(\"../Data/clinvar_conflicting.csv\", dtype={\"CHROM\": \"string\", \"MOTIF_NAME\": \"string\", \"HIGH_INF_POS\": \"string\"})"
   ]
  },
  {
   "cell_type": "code",
   "execution_count": 3,
   "metadata": {},
   "outputs": [
    {
     "name": "stdout",
     "output_type": "stream",
     "text": [
      "<class 'pandas.core.frame.DataFrame'>\n",
      "RangeIndex: 65188 entries, 0 to 65187\n",
      "Data columns (total 46 columns):\n",
      " #   Column              Non-Null Count  Dtype  \n",
      "---  ------              --------------  -----  \n",
      " 0   CHROM               65188 non-null  string \n",
      " 1   POS                 65188 non-null  int64  \n",
      " 2   REF                 65188 non-null  object \n",
      " 3   ALT                 65188 non-null  object \n",
      " 4   AF_ESP              65188 non-null  float64\n",
      " 5   AF_EXAC             65188 non-null  float64\n",
      " 6   AF_TGP              65188 non-null  float64\n",
      " 7   CLNDISDB            65188 non-null  object \n",
      " 8   CLNDISDBINCL        167 non-null    object \n",
      " 9   CLNDN               65188 non-null  object \n",
      " 10  CLNDNINCL           167 non-null    object \n",
      " 11  CLNHGVS             65188 non-null  object \n",
      " 12  CLNSIGINCL          167 non-null    object \n",
      " 13  CLNVC               65188 non-null  object \n",
      " 14  CLNVI               27659 non-null  object \n",
      " 15  MC                  64342 non-null  object \n",
      " 16  ORIGIN              65188 non-null  int64  \n",
      " 17  SSR                 130 non-null    float64\n",
      " 18  CLASS               65188 non-null  int64  \n",
      " 19  Allele              65188 non-null  object \n",
      " 20  Consequence         65188 non-null  object \n",
      " 21  IMPACT              65188 non-null  object \n",
      " 22  SYMBOL              65172 non-null  object \n",
      " 23  Feature_type        65174 non-null  object \n",
      " 24  Feature             65174 non-null  object \n",
      " 25  BIOTYPE             65172 non-null  object \n",
      " 26  EXON                56295 non-null  object \n",
      " 27  INTRON              8803 non-null   object \n",
      " 28  cDNA_position       56304 non-null  object \n",
      " 29  CDS_position        55233 non-null  object \n",
      " 30  Protein_position    55233 non-null  object \n",
      " 31  Amino_acids         55184 non-null  object \n",
      " 32  Codons              55184 non-null  object \n",
      " 33  DISTANCE            108 non-null    float64\n",
      " 34  STRAND              65174 non-null  float64\n",
      " 35  BAM_EDIT            31969 non-null  object \n",
      " 36  SIFT                24836 non-null  object \n",
      " 37  PolyPhen            24796 non-null  object \n",
      " 38  MOTIF_NAME          2 non-null      string \n",
      " 39  MOTIF_POS           2 non-null      float64\n",
      " 40  HIGH_INF_POS        2 non-null      string \n",
      " 41  MOTIF_SCORE_CHANGE  2 non-null      float64\n",
      " 42  LoFtool             60975 non-null  float64\n",
      " 43  CADD_PHRED          64096 non-null  float64\n",
      " 44  CADD_RAW            64096 non-null  float64\n",
      " 45  BLOSUM62            25593 non-null  float64\n",
      "dtypes: float64(12), int64(3), object(28), string(3)\n",
      "memory usage: 22.9+ MB\n"
     ]
    }
   ],
   "source": [
    "base_df.info()"
   ]
  },
  {
   "cell_type": "code",
   "execution_count": 19,
   "metadata": {},
   "outputs": [
    {
     "name": "stdout",
     "output_type": "stream",
     "text": [
      "5\n",
      "T     20409\n",
      "A     20205\n",
      "G     11782\n",
      "C     11429\n",
      "2+     1363\n",
      "Name: ALT, dtype: int64\n"
     ]
    },
    {
     "name": "stderr",
     "output_type": "stream",
     "text": [
      "<ipython-input-19-becd27cef1c6>:11: SettingWithCopyWarning: \n",
      "A value is trying to be set on a copy of a slice from a DataFrame.\n",
      "Try using .loc[row_indexer,col_indexer] = value instead\n",
      "\n",
      "See the caveats in the documentation: https://pandas.pydata.org/pandas-docs/stable/user_guide/indexing.html#returning-a-view-versus-a-copy\n",
      "  reduced_df[\"CHROM\"] = pd.to_numeric(reduced_df[\"CHROM\"])\n",
      "/Users/NickPC/anaconda3/lib/python3.8/site-packages/pandas/core/indexing.py:1763: SettingWithCopyWarning: \n",
      "A value is trying to be set on a copy of a slice from a DataFrame.\n",
      "Try using .loc[row_indexer,col_indexer] = value instead\n",
      "\n",
      "See the caveats in the documentation: https://pandas.pydata.org/pandas-docs/stable/user_guide/indexing.html#returning-a-view-versus-a-copy\n",
      "  isetter(loc, value)\n",
      "/Users/NickPC/anaconda3/lib/python3.8/site-packages/pandas/core/indexing.py:1763: SettingWithCopyWarning: \n",
      "A value is trying to be set on a copy of a slice from a DataFrame.\n",
      "Try using .loc[row_indexer,col_indexer] = value instead\n",
      "\n",
      "See the caveats in the documentation: https://pandas.pydata.org/pandas-docs/stable/user_guide/indexing.html#returning-a-view-versus-a-copy\n",
      "  isetter(loc, value)\n"
     ]
    }
   ],
   "source": [
    "# reduce the data frame and do some basic cleaning, start with just a few bare features\n",
    "\n",
    "#     - CHROM, REF, ALT, AF_*, CLNVC, ORIGIN, CLASS, Allele, Consequence, IMPACT, STRAND\n",
    "# reduced_df = base_df[['CHROM', 'CLASS']]\n",
    "# reduced_df = base_df[['CLASS', 'CHROM', 'REF']]\n",
    "reduced_df = base_df[['CLASS', 'CHROM', 'REF', 'ALT']]\n",
    "\n",
    "# fix chrom\n",
    "reduced_df.loc[reduced_df['CHROM'] == 'X', 'CHROM'] = '23'\n",
    "reduced_df.loc[reduced_df['CHROM'] == 'MT', 'CHROM'] = '24'\n",
    "reduced_df[\"CHROM\"] = pd.to_numeric(reduced_df[\"CHROM\"])\n",
    "\n",
    "# print(reduced_df['CHROM'].unique())\n",
    "# print(reduced_df['CHROM'].value_counts())\n",
    "\n",
    "# dropping MT rows (after it was converted to 24)\n",
    "# reduced_df.drop(reduced_df[reduced_df['CHROM'] == 24].index, inplace=True)\n",
    "\n",
    "# drop rows where REF is not one of the main 4 (for others there are not many rows, could maybe combine them though in the future somehow)\n",
    "# main_alleles = ['C', 'G', 'A', 'T']\n",
    "# reduced_df = reduced_df[reduced_df['REF'].isin(main_alleles)]\n",
    "\n",
    "# reduced_df[\"REF\"] = reduced_df[\"REF\"].astype(str)\n",
    "\n",
    "\n",
    "# reduced_df.info()\n",
    "# reduced_df[len(reduced_df['REF']) > 1] # = '2+'\n",
    "\n",
    "reduced_df.loc[reduced_df['REF'].str.len() > 1, 'REF'] = '2+'\n",
    "reduced_df.loc[reduced_df['ALT'].str.len() > 1, 'ALT'] = '2+'\n",
    "\n",
    "\n",
    "print(reduced_df['ALT'].nunique())\n",
    "with pd.option_context('display.max_rows', 2000):\n",
    "    print(reduced_df['ALT'].value_counts())\n",
    "\n",
    "\n",
    "# print(reduced_df['CLASS'].unique())\n",
    "# print(reduced_df['CLASS'].value_counts())"
   ]
  },
  {
   "cell_type": "code",
   "execution_count": 23,
   "metadata": {},
   "outputs": [
    {
     "data": {
      "text/html": [
       "<div>\n",
       "<style scoped>\n",
       "    .dataframe tbody tr th:only-of-type {\n",
       "        vertical-align: middle;\n",
       "    }\n",
       "\n",
       "    .dataframe tbody tr th {\n",
       "        vertical-align: top;\n",
       "    }\n",
       "\n",
       "    .dataframe thead th {\n",
       "        text-align: right;\n",
       "    }\n",
       "</style>\n",
       "<table border=\"1\" class=\"dataframe\">\n",
       "  <thead>\n",
       "    <tr style=\"text-align: right;\">\n",
       "      <th></th>\n",
       "      <th>CLASS</th>\n",
       "      <th>CHROM</th>\n",
       "      <th>REF_2+</th>\n",
       "      <th>REF_A</th>\n",
       "      <th>REF_C</th>\n",
       "      <th>REF_G</th>\n",
       "      <th>REF_T</th>\n",
       "      <th>ALT_2+</th>\n",
       "      <th>ALT_A</th>\n",
       "      <th>ALT_C</th>\n",
       "      <th>ALT_G</th>\n",
       "      <th>ALT_T</th>\n",
       "    </tr>\n",
       "  </thead>\n",
       "  <tbody>\n",
       "    <tr>\n",
       "      <th>0</th>\n",
       "      <td>0</td>\n",
       "      <td>1</td>\n",
       "      <td>0</td>\n",
       "      <td>0</td>\n",
       "      <td>0</td>\n",
       "      <td>1</td>\n",
       "      <td>0</td>\n",
       "      <td>0</td>\n",
       "      <td>0</td>\n",
       "      <td>1</td>\n",
       "      <td>0</td>\n",
       "      <td>0</td>\n",
       "    </tr>\n",
       "    <tr>\n",
       "      <th>1</th>\n",
       "      <td>0</td>\n",
       "      <td>1</td>\n",
       "      <td>0</td>\n",
       "      <td>0</td>\n",
       "      <td>0</td>\n",
       "      <td>1</td>\n",
       "      <td>0</td>\n",
       "      <td>0</td>\n",
       "      <td>1</td>\n",
       "      <td>0</td>\n",
       "      <td>0</td>\n",
       "      <td>0</td>\n",
       "    </tr>\n",
       "    <tr>\n",
       "      <th>2</th>\n",
       "      <td>1</td>\n",
       "      <td>1</td>\n",
       "      <td>0</td>\n",
       "      <td>1</td>\n",
       "      <td>0</td>\n",
       "      <td>0</td>\n",
       "      <td>0</td>\n",
       "      <td>0</td>\n",
       "      <td>0</td>\n",
       "      <td>0</td>\n",
       "      <td>1</td>\n",
       "      <td>0</td>\n",
       "    </tr>\n",
       "    <tr>\n",
       "      <th>3</th>\n",
       "      <td>0</td>\n",
       "      <td>1</td>\n",
       "      <td>0</td>\n",
       "      <td>0</td>\n",
       "      <td>0</td>\n",
       "      <td>1</td>\n",
       "      <td>0</td>\n",
       "      <td>0</td>\n",
       "      <td>1</td>\n",
       "      <td>0</td>\n",
       "      <td>0</td>\n",
       "      <td>0</td>\n",
       "    </tr>\n",
       "    <tr>\n",
       "      <th>4</th>\n",
       "      <td>0</td>\n",
       "      <td>1</td>\n",
       "      <td>0</td>\n",
       "      <td>0</td>\n",
       "      <td>0</td>\n",
       "      <td>1</td>\n",
       "      <td>0</td>\n",
       "      <td>0</td>\n",
       "      <td>0</td>\n",
       "      <td>0</td>\n",
       "      <td>0</td>\n",
       "      <td>1</td>\n",
       "    </tr>\n",
       "    <tr>\n",
       "      <th>...</th>\n",
       "      <td>...</td>\n",
       "      <td>...</td>\n",
       "      <td>...</td>\n",
       "      <td>...</td>\n",
       "      <td>...</td>\n",
       "      <td>...</td>\n",
       "      <td>...</td>\n",
       "      <td>...</td>\n",
       "      <td>...</td>\n",
       "      <td>...</td>\n",
       "      <td>...</td>\n",
       "      <td>...</td>\n",
       "    </tr>\n",
       "    <tr>\n",
       "      <th>65183</th>\n",
       "      <td>0</td>\n",
       "      <td>23</td>\n",
       "      <td>0</td>\n",
       "      <td>0</td>\n",
       "      <td>0</td>\n",
       "      <td>0</td>\n",
       "      <td>1</td>\n",
       "      <td>0</td>\n",
       "      <td>0</td>\n",
       "      <td>0</td>\n",
       "      <td>1</td>\n",
       "      <td>0</td>\n",
       "    </tr>\n",
       "    <tr>\n",
       "      <th>65184</th>\n",
       "      <td>1</td>\n",
       "      <td>23</td>\n",
       "      <td>0</td>\n",
       "      <td>0</td>\n",
       "      <td>1</td>\n",
       "      <td>0</td>\n",
       "      <td>0</td>\n",
       "      <td>0</td>\n",
       "      <td>0</td>\n",
       "      <td>0</td>\n",
       "      <td>0</td>\n",
       "      <td>1</td>\n",
       "    </tr>\n",
       "    <tr>\n",
       "      <th>65185</th>\n",
       "      <td>0</td>\n",
       "      <td>23</td>\n",
       "      <td>0</td>\n",
       "      <td>0</td>\n",
       "      <td>1</td>\n",
       "      <td>0</td>\n",
       "      <td>0</td>\n",
       "      <td>0</td>\n",
       "      <td>0</td>\n",
       "      <td>0</td>\n",
       "      <td>0</td>\n",
       "      <td>1</td>\n",
       "    </tr>\n",
       "    <tr>\n",
       "      <th>65186</th>\n",
       "      <td>0</td>\n",
       "      <td>23</td>\n",
       "      <td>0</td>\n",
       "      <td>0</td>\n",
       "      <td>0</td>\n",
       "      <td>0</td>\n",
       "      <td>1</td>\n",
       "      <td>0</td>\n",
       "      <td>0</td>\n",
       "      <td>1</td>\n",
       "      <td>0</td>\n",
       "      <td>0</td>\n",
       "    </tr>\n",
       "    <tr>\n",
       "      <th>65187</th>\n",
       "      <td>0</td>\n",
       "      <td>23</td>\n",
       "      <td>0</td>\n",
       "      <td>0</td>\n",
       "      <td>0</td>\n",
       "      <td>1</td>\n",
       "      <td>0</td>\n",
       "      <td>0</td>\n",
       "      <td>0</td>\n",
       "      <td>1</td>\n",
       "      <td>0</td>\n",
       "      <td>0</td>\n",
       "    </tr>\n",
       "  </tbody>\n",
       "</table>\n",
       "<p>65188 rows × 12 columns</p>\n",
       "</div>"
      ],
      "text/plain": [
       "       CLASS  CHROM  REF_2+  REF_A  REF_C  REF_G  REF_T  ALT_2+  ALT_A  ALT_C  \\\n",
       "0          0      1       0      0      0      1      0       0      0      1   \n",
       "1          0      1       0      0      0      1      0       0      1      0   \n",
       "2          1      1       0      1      0      0      0       0      0      0   \n",
       "3          0      1       0      0      0      1      0       0      1      0   \n",
       "4          0      1       0      0      0      1      0       0      0      0   \n",
       "...      ...    ...     ...    ...    ...    ...    ...     ...    ...    ...   \n",
       "65183      0     23       0      0      0      0      1       0      0      0   \n",
       "65184      1     23       0      0      1      0      0       0      0      0   \n",
       "65185      0     23       0      0      1      0      0       0      0      0   \n",
       "65186      0     23       0      0      0      0      1       0      0      1   \n",
       "65187      0     23       0      0      0      1      0       0      0      1   \n",
       "\n",
       "       ALT_G  ALT_T  \n",
       "0          0      0  \n",
       "1          0      0  \n",
       "2          1      0  \n",
       "3          0      0  \n",
       "4          0      1  \n",
       "...      ...    ...  \n",
       "65183      1      0  \n",
       "65184      0      1  \n",
       "65185      0      1  \n",
       "65186      0      0  \n",
       "65187      0      0  \n",
       "\n",
       "[65188 rows x 12 columns]"
      ]
     },
     "execution_count": 23,
     "metadata": {},
     "output_type": "execute_result"
    }
   ],
   "source": [
    "# encode REF column \n",
    "encoded_df = pd.get_dummies(reduced_df, prefix=['REF', 'ALT'], columns=['REF', 'ALT'])\n",
    "encoded_df"
   ]
  },
  {
   "cell_type": "code",
   "execution_count": null,
   "metadata": {},
   "outputs": [],
   "source": [
    "# need to do one-hot-encoding of allele type to turn it into a useful variable\n",
    "# or can maybe use Pandas built in functions, Pandas.Categorical...\n",
    "\n",
    "# reduced_df.loc[:, 'REF'] = reduced_df['REF'].astype('category')\n",
    "\n",
    "# print(reduced_df['REF'].nunique())\n",
    "# print(reduced_df['REF'].value_counts())"
   ]
  },
  {
   "cell_type": "code",
   "execution_count": 24,
   "metadata": {},
   "outputs": [],
   "source": [
    "# split data into test and train sets\n",
    "# df_train, df_test = train_test_split(reduced_df, test_size=0.2, random_state=55)\n",
    "df_train, df_test = train_test_split(encoded_df, test_size=0.2, random_state=55)"
   ]
  },
  {
   "cell_type": "code",
   "execution_count": null,
   "metadata": {},
   "outputs": [],
   "source": [
    "# sns.pairplot(df_train, corner=True, height=1.5, plot_kws={'size': 3}, hue='CLASS');"
   ]
  },
  {
   "cell_type": "code",
   "execution_count": null,
   "metadata": {},
   "outputs": [],
   "source": [
    "# sns.kdeplot(df_train['CHROM'], hue=df_train['CLASS'])\n",
    "# sns.kdeplot(df_train.loc[df_train['CLASS'] == 0, 'CHROM'], color='r')\n",
    "# sns.kdeplot(df_train.loc[df_train['CLASS'] == 1, 'CHROM'], color='b')"
   ]
  },
  {
   "cell_type": "code",
   "execution_count": null,
   "metadata": {},
   "outputs": [],
   "source": [
    "# sns.countplot(df_train.loc[df_train['CLASS'] == 0, 'CHROM'], color='r')\n",
    "# sns.countplot(df_train.loc[df_train['CLASS'] == 1, 'CHROM'], color='b')"
   ]
  },
  {
   "cell_type": "code",
   "execution_count": null,
   "metadata": {},
   "outputs": [],
   "source": [
    "# counts = (df_train.groupby(['CLASS'])['CHROM']\n",
    "#                      .value_counts(normalize=True)\n",
    "#                      .rename('percentage')\n",
    "#                      .mul(100)\n",
    "#                      .reset_index()\n",
    "#                      .sort_values('CHROM'))\n",
    "# p = sns.barplot(x=\"CHROM\", y=\"percentage\", hue=\"CLASS\", data=counts)"
   ]
  },
  {
   "cell_type": "code",
   "execution_count": 21,
   "metadata": {},
   "outputs": [
    {
     "data": {
      "image/png": "[encoded data removed]",
      "text/plain": [
       "<Figure size 648x432 with 1 Axes>"
      ]
     },
     "metadata": {},
     "output_type": "display_data"
    },
    {
     "data": {
      "image/png": "[encoded data removed]",
      "text/plain": [
       "<Figure size 648x432 with 1 Axes>"
      ]
     },
     "metadata": {},
     "output_type": "display_data"
    },
    {
     "data": {
      "image/png": "[encoded data removed]",
      "text/plain": [
       "<Figure size 648x432 with 1 Axes>"
      ]
     },
     "metadata": {},
     "output_type": "display_data"
    }
   ],
   "source": [
    "# check categorical variables vs conflicting or not to try and find some predictive features\n",
    "for col in df_train.columns:\n",
    "    if(col == 'CLASS'): continue\n",
    "    plt.figure()\n",
    "    counts = (df_train.groupby(['CLASS'])[col]\n",
    "                     .value_counts(normalize=True)\n",
    "                     .rename('percentage')\n",
    "                     .mul(100)\n",
    "                     .reset_index()\n",
    "                     .sort_values(col))\n",
    "    sns.barplot(x=col, y=\"percentage\", hue=\"CLASS\", data=counts)\n"
   ]
  },
  {
   "cell_type": "code",
   "execution_count": null,
   "metadata": {},
   "outputs": [],
   "source": [
    "stop"
   ]
  },
  {
   "cell_type": "code",
   "execution_count": 25,
   "metadata": {},
   "outputs": [],
   "source": [
    "# split out features and target for models\n",
    "\n",
    "x_train = df_train.drop('CLASS', axis=1)\n",
    "y_train = df_train['CLASS']"
   ]
  },
  {
   "cell_type": "code",
   "execution_count": null,
   "metadata": {},
   "outputs": [],
   "source": [
    "# lm_1 = LogisticRegression(solver='newton-cg',  # For comparison, use the same solver as statsmodels default\n",
    "#                           C=100000)  # No regularization\n",
    "\n",
    "# lm_1.fit(x_train, y_train)"
   ]
  },
  {
   "cell_type": "code",
   "execution_count": null,
   "metadata": {},
   "outputs": [],
   "source": [
    "# print('intercept: ', round(lm_1.intercept_[0], 4))\n",
    "# print('chrom coef: ', round(lm_1.coef_[0][0], 4))"
   ]
  },
  {
   "cell_type": "code",
   "execution_count": null,
   "metadata": {},
   "outputs": [],
   "source": [
    "# df_eval = df_test.copy()\n",
    "# df_eval['pred'] = lm_1.predict(x_train)\n",
    "# df_eval.loc[:, 'pred'] = df_eval['pred'].astype('category')\n",
    "# df_eval['correct_pred'] = df_eval['pred'] == df_eval['CLASS']"
   ]
  },
  {
   "cell_type": "code",
   "execution_count": null,
   "metadata": {},
   "outputs": [],
   "source": [
    "# df_eval.info()\n",
    "# # df_eval.head(50)\n",
    "# df_eval['pred'].unique()"
   ]
  },
  {
   "cell_type": "code",
   "execution_count": null,
   "metadata": {},
   "outputs": [],
   "source": [
    "# sns.stripplot(data=df_eval,\n",
    "#               x='CHROM',\n",
    "#               y='pred',\n",
    "#               hue='correct_pred',\n",
    "#               palette={False: '#f03b20', True: '#3182bd'});"
   ]
  },
  {
   "cell_type": "code",
   "execution_count": null,
   "metadata": {},
   "outputs": [],
   "source": []
  },
  {
   "cell_type": "code",
   "execution_count": 26,
   "metadata": {},
   "outputs": [
    {
     "data": {
      "text/plain": [
       "0.7495877277085331"
      ]
     },
     "execution_count": 26,
     "metadata": {},
     "output_type": "execute_result"
    }
   ],
   "source": [
    "# check with dummy classifier\n",
    "dummy_clf = DummyClassifier(strategy=\"most_frequent\")\n",
    "dummy_clf.fit(x_train, y_train)\n",
    "DummyClassifier(strategy='most_frequent')\n",
    "dummy_clf.predict(x_train)\n",
    "dummy_clf.score(x_train, y_train)\n"
   ]
  },
  {
   "cell_type": "code",
   "execution_count": 27,
   "metadata": {},
   "outputs": [
    {
     "name": "stdout",
     "output_type": "stream",
     "text": [
      "0.715378715244487\n"
     ]
    }
   ],
   "source": [
    "# try KNN with chrom still as numbers\n",
    "\n",
    "knn = KNeighborsClassifier(n_neighbors=5)\n",
    "knn.fit(x_train, y_train)\n",
    "y_pred = knn.predict(x_train)"
   ]
  },
  {
   "cell_type": "code",
   "execution_count": 46,
   "metadata": {},
   "outputs": [
    {
     "name": "stdout",
     "output_type": "stream",
     "text": [
      "              precision    recall  f1-score   support\n",
      "\n",
      "           0       0.75      0.92      0.83     39091\n",
      "           1       0.29      0.09      0.14     13059\n",
      "\n",
      "    accuracy                           0.72     52150\n",
      "   macro avg       0.52      0.51      0.48     52150\n",
      "weighted avg       0.64      0.72      0.66     52150\n",
      "\n"
     ]
    },
    {
     "data": {
      "image/png": "[encoded data removed]",
      "text/plain": [
       "<Figure size 648x432 with 2 Axes>"
      ]
     },
     "metadata": {},
     "output_type": "display_data"
    }
   ],
   "source": [
    "# print(metrics.accuracy_score(y_train, y_pred))\n",
    "print(metrics.classification_report(y_train, y_pred))\n",
    "\n",
    "conf_mat = metrics.confusion_matrix(y_train, y_pred)\n",
    "# sns.heatmap(conf_mat)\n",
    "sns.heatmap(conf_mat, cmap=plt.cm.Blues, annot=True, square=True, fmt='d',\n",
    "           xticklabels=['non-conflicting', 'conflicting'],\n",
    "           yticklabels=['non-conflicting', 'conflicting']);\n",
    "plt.xlabel('prediction')\n",
    "plt.ylabel('actual')\n",
    "# plt.yticks(ticks=\"array-like\")\n",
    "plt.title(\"kNN Confusion Matrix\");"
   ]
  },
  {
   "cell_type": "code",
   "execution_count": 34,
   "metadata": {},
   "outputs": [],
   "source": [
    "# print(df_train.head(5))\n",
    "# y_pred[:50]"
   ]
  },
  {
   "cell_type": "code",
   "execution_count": 35,
   "metadata": {},
   "outputs": [],
   "source": [
    "# set_of_conf_chroms = set()\n",
    "# for i, val in enumerate(y_pred):\n",
    "#     if(val == 1):\n",
    "#         set_of_conf_chroms.add(df_train.iloc[i]['CHROM'])\n",
    "        \n",
    "# #         print(df_train.iloc[[i]])\n",
    "# #         print(y_pred[i])\n",
    "# print(set_of_conf_chroms)"
   ]
  },
  {
   "cell_type": "code",
   "execution_count": null,
   "metadata": {},
   "outputs": [],
   "source": []
  }
 ],
 "metadata": {
  "kernelspec": {
   "display_name": "Python 3",
   "language": "python",
   "name": "python3"
  },
  "language_info": {
   "codemirror_mode": {
    "name": "ipython",
    "version": 3
   },
   "file_extension": ".py",
   "mimetype": "text/x-python",
   "name": "python",
   "nbconvert_exporter": "python",
   "pygments_lexer": "ipython3",
   "version": "3.8.5"
  }
 },
 "nbformat": 4,
 "nbformat_minor": 4
}
