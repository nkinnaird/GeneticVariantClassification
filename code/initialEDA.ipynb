{
 "cells": [
  {
   "cell_type": "code",
   "execution_count": 1,
   "metadata": {},
   "outputs": [],
   "source": [
    "import pandas as pd\n",
    "import numpy as np\n",
    "import scipy.stats as st\n",
    "from sklearn.model_selection import train_test_split, GridSearchCV, cross_validate\n",
    "from sklearn.linear_model import LogisticRegression\n",
    "from sklearn.neighbors import KNeighborsClassifier\n",
    "from sklearn.dummy import DummyClassifier\n",
    "from sklearn import metrics # # from sklearn.metrics import roc_auc_score, confusion_matrix, roc_curve\n",
    "from sklearn.tree import DecisionTreeClassifier\n",
    "from sklearn.svm import LinearSVC, SVC\n",
    "from sklearn.ensemble import RandomForestClassifier\n",
    "import sklearn.preprocessing as preprocessing \n",
    "from sklearn.compose import ColumnTransformer\n",
    "\n",
    "import matplotlib.pyplot as plt\n",
    "import seaborn as sns\n",
    "\n",
    "import modelEvalUtils as meu\n",
    "\n",
    "# %config InlineBackend.figure_formats = ['svg']\n",
    "%matplotlib inline\n",
    "\n",
    "plt.rcParams['figure.figsize'] = (9, 6)\n",
    "sns.set(context='notebook', style='whitegrid', font_scale=1.2)"
   ]
  },
  {
   "cell_type": "code",
   "execution_count": 2,
   "metadata": {},
   "outputs": [],
   "source": [
    "base_df = pd.read_csv(\"../Data/clinvar_conflicting.csv\", dtype={\"CHROM\": \"string\", \"MOTIF_NAME\": \"string\", \"HIGH_INF_POS\": \"string\"})"
   ]
  },
  {
   "cell_type": "code",
   "execution_count": 3,
   "metadata": {},
   "outputs": [
    {
     "name": "stdout",
     "output_type": "stream",
     "text": [
      "<class 'pandas.core.frame.DataFrame'>\n",
      "RangeIndex: 65188 entries, 0 to 65187\n",
      "Data columns (total 46 columns):\n",
      " #   Column              Non-Null Count  Dtype  \n",
      "---  ------              --------------  -----  \n",
      " 0   CHROM               65188 non-null  string \n",
      " 1   POS                 65188 non-null  int64  \n",
      " 2   REF                 65188 non-null  object \n",
      " 3   ALT                 65188 non-null  object \n",
      " 4   AF_ESP              65188 non-null  float64\n",
      " 5   AF_EXAC             65188 non-null  float64\n",
      " 6   AF_TGP              65188 non-null  float64\n",
      " 7   CLNDISDB            65188 non-null  object \n",
      " 8   CLNDISDBINCL        167 non-null    object \n",
      " 9   CLNDN               65188 non-null  object \n",
      " 10  CLNDNINCL           167 non-null    object \n",
      " 11  CLNHGVS             65188 non-null  object \n",
      " 12  CLNSIGINCL          167 non-null    object \n",
      " 13  CLNVC               65188 non-null  object \n",
      " 14  CLNVI               27659 non-null  object \n",
      " 15  MC                  64342 non-null  object \n",
      " 16  ORIGIN              65188 non-null  int64  \n",
      " 17  SSR                 130 non-null    float64\n",
      " 18  CLASS               65188 non-null  int64  \n",
      " 19  Allele              65188 non-null  object \n",
      " 20  Consequence         65188 non-null  object \n",
      " 21  IMPACT              65188 non-null  object \n",
      " 22  SYMBOL              65172 non-null  object \n",
      " 23  Feature_type        65174 non-null  object \n",
      " 24  Feature             65174 non-null  object \n",
      " 25  BIOTYPE             65172 non-null  object \n",
      " 26  EXON                56295 non-null  object \n",
      " 27  INTRON              8803 non-null   object \n",
      " 28  cDNA_position       56304 non-null  object \n",
      " 29  CDS_position        55233 non-null  object \n",
      " 30  Protein_position    55233 non-null  object \n",
      " 31  Amino_acids         55184 non-null  object \n",
      " 32  Codons              55184 non-null  object \n",
      " 33  DISTANCE            108 non-null    float64\n",
      " 34  STRAND              65174 non-null  float64\n",
      " 35  BAM_EDIT            31969 non-null  object \n",
      " 36  SIFT                24836 non-null  object \n",
      " 37  PolyPhen            24796 non-null  object \n",
      " 38  MOTIF_NAME          2 non-null      string \n",
      " 39  MOTIF_POS           2 non-null      float64\n",
      " 40  HIGH_INF_POS        2 non-null      string \n",
      " 41  MOTIF_SCORE_CHANGE  2 non-null      float64\n",
      " 42  LoFtool             60975 non-null  float64\n",
      " 43  CADD_PHRED          64096 non-null  float64\n",
      " 44  CADD_RAW            64096 non-null  float64\n",
      " 45  BLOSUM62            25593 non-null  float64\n",
      "dtypes: float64(12), int64(3), object(28), string(3)\n",
      "memory usage: 22.9+ MB\n"
     ]
    }
   ],
   "source": [
    "base_df.info()"
   ]
  },
  {
   "cell_type": "code",
   "execution_count": 34,
   "metadata": {},
   "outputs": [
    {
     "name": "stdout",
     "output_type": "stream",
     "text": [
      "<class 'pandas.core.frame.DataFrame'>\n",
      "Int64Index: 60975 entries, 6 to 65187\n",
      "Data columns (total 2 columns):\n",
      " #   Column   Non-Null Count  Dtype  \n",
      "---  ------   --------------  -----  \n",
      " 0   CLASS    60975 non-null  int64  \n",
      " 1   LoFtool  60975 non-null  float64\n",
      "dtypes: float64(1), int64(1)\n",
      "memory usage: 1.4 MB\n"
     ]
    },
    {
     "name": "stderr",
     "output_type": "stream",
     "text": [
      "<ipython-input-34-9c9ac3e4f4d3>:24: SettingWithCopyWarning: \n",
      "A value is trying to be set on a copy of a slice from a DataFrame\n",
      "\n",
      "See the caveats in the documentation: https://pandas.pydata.org/pandas-docs/stable/user_guide/indexing.html#returning-a-view-versus-a-copy\n",
      "  reduced_df.dropna(inplace=True)\n"
     ]
    }
   ],
   "source": [
    "# reduce the data frame and do some basic cleaning, start with just a few bare features\n",
    "\n",
    "# features to test first:\n",
    "#     - CHROM, REF, ALT, AF_*, CLNVC, ORIGIN, CLASS, Allele, Consequence, IMPACT, STRAND\n",
    "\n",
    "# features which don't seem to be super useful (maybe they would be when all together)\n",
    "# CHROM, REF, ALT, CLNVC, ORIGIN, Consequence, IMPACT (seems like this should be at a least a little useful), STRAND\n",
    "\n",
    "test_var = 'LoFtool'\n",
    "\n",
    "# select features\n",
    "# reduced_df = base_df[['CLASS', 'CHROM']]\n",
    "# reduced_df = base_df[['CLASS', 'CHROM', 'REF', 'ALT']]\n",
    "# reduced_df = base_df[['CLASS', 'CHROM', 'REF', 'ALT', 'CLNVC', 'ORIGIN', 'Consequence', 'IMPACT', 'STRAND']]\n",
    "# reduced_df = base_df[['CLASS', 'CHROM', 'REF', 'ALT', 'Consequence', test_var]]\n",
    "reduced_df = base_df[['CLASS', test_var]]\n",
    "\n",
    "# feature cleaing/adjustment below here\n",
    "\n",
    "# reduced_df[\"PolyPhen\"].fillna(\"unknown\", inplace = True)\n",
    "# reduced_df[\"SIFT\"].fillna(\"SIFT_UNKNOWN\", inplace = True)\n",
    "\n",
    "# drop nulls\n",
    "reduced_df.dropna(inplace=True)\n",
    "\n",
    "# CHROM - turn CHROM strings into numbers\n",
    "# reduced_df.loc[reduced_df['CHROM'] == 'X', 'CHROM'] = '23'\n",
    "# reduced_df.loc[reduced_df['CHROM'] == 'MT', 'CHROM'] = '24'\n",
    "# reduced_df[\"CHROM\"] = pd.to_numeric(reduced_df[\"CHROM\"])\n",
    "\n",
    "    # dropping MT rows (after it was converted to 24)\n",
    "    # reduced_df.drop(reduced_df[reduced_df['CHROM'] == 24].index, inplace=True)\n",
    "\n",
    "# REF, ALT - lots of alleles with more than one type, combine them all as \"2+\" instead of dropping them like below\n",
    "# reduced_df.loc[reduced_df['REF'].str.len() > 1, 'REF'] = '2+'\n",
    "# reduced_df.loc[reduced_df['ALT'].str.len() > 1, 'ALT'] = '2+'\n",
    "    # drop rows where REF is not one of the main 4 (for others there are not many rows, could maybe combine them though in the future somehow)\n",
    "    # main_alleles = ['C', 'G', 'A', 'T']\n",
    "    # reduced_df = reduced_df[reduced_df['REF'].isin(main_alleles)]\n",
    "\n",
    "# ORIGIN - combine ORIGIN values if they are more than 1 (too many of them, and they are a sum of the smaller parts, making it difficult to split them out - could try and do that though)\n",
    "# reduced_df['ORIGIN'] = reduced_df['ORIGIN'].astype(str)\n",
    "# reduced_df.loc[reduced_df['ORIGIN'] != '1', 'ORIGIN'] = '1+'\n",
    "    # try dropping most common one to see if there are any trends for the lesser count categories\n",
    "    # reduced_df.drop(reduced_df[reduced_df['ORIGIN'] == 1].index, inplace=True)\n",
    "\n",
    "# Consequence - drop those with less than 100 counts\n",
    "# reduced_df = reduced_df.groupby('Consequence').filter(lambda x : len(x)>100)\n",
    "\n",
    "# for allele\n",
    "# reduced_df.loc[reduced_df['Allele'].str.len() > 1, 'Allele'] = '2+'\n",
    "\n",
    "# for cDNA_position, and other positions\n",
    "# reduced_df.drop(reduced_df[reduced_df[test_var].str.contains('\\?')].index, inplace = True) \n",
    "# reduced_df[test_var] = reduced_df[test_var].apply(lambda L: L.split(\"-\",1)[0])\n",
    "# reduced_df[test_var] = pd.to_numeric(reduced_df[test_var])\n",
    "\n",
    "# MC - drop those with less than 100 counts\n",
    "# reduced_df = reduced_df.groupby(test_var).filter(lambda x : len(x)>100)\n",
    "\n",
    "\n",
    "# SYMBOL, Feature - group those with less than 100 counts\n",
    "# symbol_counts = reduced_df[test_var].value_counts()\n",
    "# reduced_df[test_var] = np.where(reduced_df[test_var].isin(symbol_counts.index[symbol_counts >= 100]), reduced_df[test_var], 'Other')\n",
    "\n",
    "\n",
    "# print(float(reduced_df.iloc[10][test_var].split(\"/\",1)[0]) / float(reduced_df.iloc[10][test_var].split(\"/\",1)[1]) )#(float(L.split(\"/\",1)[0]) / float(L.split(\"/\",1)[0])) )\n",
    "\n",
    "\n",
    "# EXON\n",
    "# reduced_df[test_var] = reduced_df[test_var].apply(lambda L: (float(L.split(\"/\",1)[0]) / float(L.split(\"/\",1)[1])) )\n",
    "# reduced_df[test_var] = pd.to_numeric(reduced_df[test_var])\n",
    "# reduced_df[test_var] = float(reduced_df[test_var].split(\"/\",1)[0]) / float(reduced_df[test_var].split(\"/\",1)[1])\n",
    "\n",
    "\n",
    "# print('Column type:', type(reduced_df.iloc[0][test_var]))\n",
    "# print('Num categores:', reduced_df[test_var].nunique())\n",
    "# with pd.option_context('display.max_rows', 3000):\n",
    "#     print(reduced_df[test_var].value_counts())\n",
    "\n",
    "\n",
    "# print(reduced_df['CLASS'].unique())\n",
    "# print(reduced_df['CLASS'].value_counts())\n",
    "\n",
    "reduced_df.info()"
   ]
  },
  {
   "cell_type": "code",
   "execution_count": 5,
   "metadata": {},
   "outputs": [],
   "source": [
    "# string_check = \"24/66\"\n",
    "# float(string_check.split(\"/\")[0]) + float(string_check.split(\"/\")[1])"
   ]
  },
  {
   "cell_type": "code",
   "execution_count": 33,
   "metadata": {},
   "outputs": [],
   "source": [
    "# check categorical variables vs conflicting or not to try and find some predictive features - do this before encoding so there are less plots to make\n",
    "for col in reduced_df.columns:\n",
    "    if(col == 'CLASS' or col == 'CADD_PHRED'): continue\n",
    "    plt.figure()\n",
    "    counts = (reduced_df.groupby(['CLASS'])[col]\n",
    "                     .value_counts(normalize=True)\n",
    "                     .rename('percentage')\n",
    "                     .mul(100)\n",
    "                     .reset_index()\n",
    "                     .sort_values(col))\n",
    "    sns.barplot(x=col, y=\"percentage\", hue=\"CLASS\", data=counts)\n"
   ]
  },
  {
   "cell_type": "code",
   "execution_count": 36,
   "metadata": {},
   "outputs": [
    {
     "data": {
      "text/plain": [
       "<AxesSubplot:xlabel='LoFtool', ylabel='Density'>"
      ]
     },
     "execution_count": 36,
     "metadata": {},
     "output_type": "execute_result"
    },
    {
     "data": {
      "image/png": "[encoded data removed]",
      "text/plain": [
       "<Figure size 648x432 with 1 Axes>"
      ]
     },
     "metadata": {},
     "output_type": "display_data"
    }
   ],
   "source": [
    "fig =sns.kdeplot(data=reduced_df[reduced_df['CLASS'] == 0], x=test_var, color='b', bw_adjust=0.1)\n",
    "sns.kdeplot(data=reduced_df[reduced_df['CLASS'] == 1], x=test_var, color='orange', bw_adjust=0.1)\n",
    "\n",
    "\n",
    "# fig = plt.figure()\n",
    "\n",
    "# ax = sns.kdeplot(data=reduced_df[reduced_df['CLASS'] == 0], x=test_var, color='b', label='non-conflicting', bw_adjust=0.1)\n",
    "# sns.kdeplot(data=reduced_df[reduced_df['CLASS'] == 1], x=test_var, color='orange', label='conflicting', bw_adjust=0.1)\n",
    "\n",
    "# plt.legend()\n",
    "# ax.set_xlim(0,60)\n",
    "\n",
    "# plt.title(\"Target Classes vs Deleteriousness Score\")\n",
    "# plt.savefig(\"Images/EDA-CADD_PHRED.png\")\n",
    "\n",
    "\n",
    "\n",
    "# fig = plt.figure()\n",
    "\n",
    "# ax = sns.kdeplot(data=reduced_df[reduced_df['CLASS'] == 0], x=test_var, color='b', label='non-conflicting')#, bw_adjust=0.1)\n",
    "# sns.kdeplot(data=reduced_df[reduced_df['CLASS'] == 1], x=test_var, color='orange', label='conflicting')#, bw_adjust=0.1)\n",
    "\n",
    "# plt.legend()\n",
    "# ax.set_xlim(0,0.1)\n",
    "\n",
    "# plt.title(\"Target Classes vs Allele Frequency\")\n",
    "# plt.savefig(\"Images/EDA-AF_TGP.png\")\n"
   ]
  },
  {
   "cell_type": "code",
   "execution_count": 8,
   "metadata": {},
   "outputs": [
    {
     "ename": "SyntaxError",
     "evalue": "invalid syntax (<ipython-input-8-a96ba3aab008>, line 1)",
     "output_type": "error",
     "traceback": [
      "\u001b[0;36m  File \u001b[0;32m\"<ipython-input-8-a96ba3aab008>\"\u001b[0;36m, line \u001b[0;32m1\u001b[0m\n\u001b[0;31m    stop here\u001b[0m\n\u001b[0m         ^\u001b[0m\n\u001b[0;31mSyntaxError\u001b[0m\u001b[0;31m:\u001b[0m invalid syntax\n"
     ]
    }
   ],
   "source": [
    "stop here"
   ]
  },
  {
   "cell_type": "code",
   "execution_count": null,
   "metadata": {},
   "outputs": [],
   "source": [
    "g=sns.kdeplot(data=reduced_df[reduced_df['CLASS'] == 0], x=\"CADD_PHRED\", color='b', bw_adjust=0.2)\n",
    "sns.kdeplot(data=reduced_df[reduced_df['CLASS'] == 1], x=\"CADD_PHRED\", color='orange', bw_adjust=0.2)\n",
    "\n",
    "# g.fig.get_axes()[0].set_yscale('log')"
   ]
  },
  {
   "cell_type": "code",
   "execution_count": null,
   "metadata": {},
   "outputs": [],
   "source": [
    "# sns.scatterplot(df_train, corner=True, height=1.5, plot_kws={'size': 3}, hue='CLASS');"
   ]
  },
  {
   "cell_type": "code",
   "execution_count": null,
   "metadata": {},
   "outputs": [],
   "source": [
    "stop # for running notebook but not fitting down below"
   ]
  },
  {
   "cell_type": "code",
   "execution_count": null,
   "metadata": {},
   "outputs": [],
   "source": [
    "columns_to_encode = list(reduced_df.columns)\n",
    "columns_to_encode.remove('CLASS')\n",
    "columns_to_encode.remove('CHROM')\n",
    "columns_to_encode.remove('CADD_PHRED')\n",
    "columns_to_encode"
   ]
  },
  {
   "cell_type": "code",
   "execution_count": null,
   "metadata": {},
   "outputs": [],
   "source": [
    "# encode REF column \n",
    "# encoded_df = pd.get_dummies(reduced_df, prefix=['CHROM', 'REF', 'ALT', test_var], columns=['CHROM', 'REF', 'ALT', test_var])\n",
    "# encoded_df = pd.get_dummies(reduced_df, prefix=['REF', 'ALT', 'CLNVC', 'ORIGIN', 'Consequence'], columns=['REF', 'ALT', 'CLNVC', 'ORIGIN', 'Consequence'])\n",
    "# encoded_df = pd.get_dummies(reduced_df, prefix=['REF', 'ALT', 'Consequence', test_var], columns=['REF', 'ALT', 'Consequence', test_var])\n",
    "# encoded_df = pd.get_dummies(reduced_df, prefix=['REF', 'ALT', test_var], columns=['REF', 'ALT', test_var])\n",
    "encoded_df = pd.get_dummies(reduced_df, prefix=columns_to_encode, columns=columns_to_encode)\n",
    "encoded_df"
   ]
  },
  {
   "cell_type": "code",
   "execution_count": null,
   "metadata": {},
   "outputs": [],
   "source": [
    "# split data into test and train sets\n",
    "# df_train, df_test = train_test_split(reduced_df, test_size=0.2, random_state=55)\n",
    "df_train, df_test = train_test_split(encoded_df, test_size=0.2, random_state=55) # 55"
   ]
  },
  {
   "cell_type": "code",
   "execution_count": null,
   "metadata": {},
   "outputs": [],
   "source": [
    "# sns.pairplot(df_train, corner=True, height=1.5, plot_kws={'size': 3}, hue='CLASS');"
   ]
  },
  {
   "cell_type": "code",
   "execution_count": null,
   "metadata": {},
   "outputs": [],
   "source": [
    "# sns.kdeplot(df_train['CHROM'], hue=df_train['CLASS'])\n",
    "# sns.kdeplot(df_train.loc[df_train['CLASS'] == 0, 'CHROM'], color='r')\n",
    "# sns.kdeplot(df_train.loc[df_train['CLASS'] == 1, 'CHROM'], color='b')"
   ]
  },
  {
   "cell_type": "code",
   "execution_count": null,
   "metadata": {},
   "outputs": [],
   "source": [
    "# sns.countplot(df_train.loc[df_train['CLASS'] == 0, 'CHROM'], color='r')\n",
    "# sns.countplot(df_train.loc[df_train['CLASS'] == 1, 'CHROM'], color='b')"
   ]
  },
  {
   "cell_type": "code",
   "execution_count": null,
   "metadata": {},
   "outputs": [],
   "source": [
    "# counts = (df_train.groupby(['CLASS'])['CHROM']\n",
    "#                      .value_counts(normalize=True)\n",
    "#                      .rename('percentage')\n",
    "#                      .mul(100)\n",
    "#                      .reset_index()\n",
    "#                      .sort_values('CHROM'))\n",
    "# p = sns.barplot(x=\"CHROM\", y=\"percentage\", hue=\"CLASS\", data=counts)"
   ]
  },
  {
   "cell_type": "code",
   "execution_count": null,
   "metadata": {},
   "outputs": [],
   "source": [
    "# stop"
   ]
  },
  {
   "cell_type": "code",
   "execution_count": null,
   "metadata": {},
   "outputs": [],
   "source": [
    "# split out features and target for models\n",
    "\n",
    "x_train = df_train.drop('CLASS', axis=1)\n",
    "y_train = df_train['CLASS']"
   ]
  },
  {
   "cell_type": "code",
   "execution_count": null,
   "metadata": {},
   "outputs": [],
   "source": [
    "x_train.iloc[1]"
   ]
  },
  {
   "cell_type": "code",
   "execution_count": null,
   "metadata": {},
   "outputs": [],
   "source": [
    "# standard scale features if using both categorical and numerical data\n",
    "# std = preprocessing.StandardScaler()\n",
    "# x_train = std.fit_transform(x_train)\n",
    "\n"
   ]
  },
  {
   "cell_type": "code",
   "execution_count": null,
   "metadata": {},
   "outputs": [],
   "source": [
    "# ct = ColumnTransformer([('standardizer', preprocessing.StandardScaler(), ['CADD_PHRED'])], remainder='passthrough')\n",
    "# ct.fit_transform(x_train)"
   ]
  },
  {
   "cell_type": "code",
   "execution_count": null,
   "metadata": {},
   "outputs": [],
   "source": [
    "# x_train"
   ]
  },
  {
   "cell_type": "code",
   "execution_count": null,
   "metadata": {},
   "outputs": [],
   "source": [
    "# x_train[1]"
   ]
  },
  {
   "cell_type": "code",
   "execution_count": null,
   "metadata": {},
   "outputs": [],
   "source": [
    "# lm_1 = LogisticRegression(solver='newton-cg',  # For comparison, use the same solver as statsmodels default\n",
    "#                           C=100000)  # No regularization\n",
    "\n",
    "# lm_1.fit(x_train, y_train)"
   ]
  },
  {
   "cell_type": "code",
   "execution_count": null,
   "metadata": {},
   "outputs": [],
   "source": [
    "# print('intercept: ', round(lm_1.intercept_[0], 4))\n",
    "# print('chrom coef: ', round(lm_1.coef_[0][0], 4))"
   ]
  },
  {
   "cell_type": "code",
   "execution_count": null,
   "metadata": {},
   "outputs": [],
   "source": [
    "# df_eval = df_test.copy()\n",
    "# df_eval['pred'] = lm_1.predict(x_train)\n",
    "# df_eval.loc[:, 'pred'] = df_eval['pred'].astype('category')\n",
    "# df_eval['correct_pred'] = df_eval['pred'] == df_eval['CLASS']"
   ]
  },
  {
   "cell_type": "code",
   "execution_count": null,
   "metadata": {},
   "outputs": [],
   "source": [
    "# df_eval.info()\n",
    "# # df_eval.head(50)\n",
    "# df_eval['pred'].unique()"
   ]
  },
  {
   "cell_type": "code",
   "execution_count": null,
   "metadata": {},
   "outputs": [],
   "source": [
    "# sns.stripplot(data=df_eval,\n",
    "#               x='CHROM',\n",
    "#               y='pred',\n",
    "#               hue='correct_pred',\n",
    "#               palette={False: '#f03b20', True: '#3182bd'});"
   ]
  },
  {
   "cell_type": "code",
   "execution_count": null,
   "metadata": {},
   "outputs": [],
   "source": []
  },
  {
   "cell_type": "code",
   "execution_count": null,
   "metadata": {},
   "outputs": [],
   "source": [
    "# try various models\n",
    "dummy_model = DummyClassifier(strategy=\"most_frequent\")\n",
    "knn_model = KNeighborsClassifier(n_neighbors=3)\n",
    "dt_model = DecisionTreeClassifier(max_depth=4)\n",
    "rf_model = RandomForestClassifier(n_estimators=10)\n",
    "\n",
    "models = [\"dummy_model\", \"knn_model\", \"dt_model\", \"rf_model\"]"
   ]
  },
  {
   "cell_type": "code",
   "execution_count": null,
   "metadata": {},
   "outputs": [],
   "source": [
    "for model_name in models:\n",
    "    curr_model = eval(model_name)  # The string refers us to the variable\n",
    "    \n",
    "    print('Current model is: ', model_name)\n",
    "    \n",
    "    curr_model.fit(x_train, y_train)\n",
    "    y_pred = curr_model.predict(x_train)\n",
    "    meu.printMetricsAndConfMat(y_train, y_pred, model_name)\n",
    "    "
   ]
  },
  {
   "cell_type": "code",
   "execution_count": null,
   "metadata": {},
   "outputs": [],
   "source": [
    "# some potentially relevant code for doing cross validation with many models \n",
    "\n",
    "# for i in test_range:\n",
    "#     cv_out = cross_validate(\n",
    "#         estimator=BaggingRegressor(DecisionTreeRegressor(random_state=123), \n",
    "#                                    n_estimators=i),\n",
    "#         X=X_train,\n",
    "#         y=y_train,\n",
    "#         cv=3,\n",
    "#         return_train_score=True,\n",
    "#         scoring={\n",
    "#             \"variance\": make_scorer(variance_metric),\n",
    "#             \"bias\": make_scorer(bias_metric)\n",
    "#         },\n",
    "#         n_jobs=-1,  #Possible issues if sklearn.__version__ < 0.20.1; If error, switch to n_jobs=1\n",
    "#     )\n",
    "#     variance.append(np.mean(cv_out['test_variance']))\n",
    "#     bias.append(np.mean(cv_out['test_bias']))"
   ]
  },
  {
   "cell_type": "code",
   "execution_count": null,
   "metadata": {},
   "outputs": [],
   "source": []
  },
  {
   "cell_type": "code",
   "execution_count": null,
   "metadata": {},
   "outputs": [],
   "source": []
  },
  {
   "cell_type": "code",
   "execution_count": null,
   "metadata": {},
   "outputs": [],
   "source": []
  }
 ],
 "metadata": {
  "kernelspec": {
   "display_name": "Python 3",
   "language": "python",
   "name": "python3"
  },
  "language_info": {
   "codemirror_mode": {
    "name": "ipython",
    "version": 3
   },
   "file_extension": ".py",
   "mimetype": "text/x-python",
   "name": "python",
   "nbconvert_exporter": "python",
   "pygments_lexer": "ipython3",
   "version": "3.8.5"
  }
 },
 "nbformat": 4,
 "nbformat_minor": 4
}
