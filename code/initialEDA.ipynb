{
 "cells": [
  {
   "cell_type": "code",
   "execution_count": 44,
   "metadata": {},
   "outputs": [],
   "source": [
    "import pandas as pd\n",
    "import numpy as np\n",
    "import scipy.stats as st\n",
    "from sklearn.model_selection import train_test_split\n",
    "import matplotlib.pyplot as plt\n",
    "import seaborn as sns\n",
    "# %config InlineBackend.figure_formats = ['svg']\n",
    "%matplotlib inline\n",
    "\n",
    "plt.rcParams['figure.figsize'] = (9, 6)\n",
    "sns.set(context='notebook', style='whitegrid', font_scale=1.2)"
   ]
  },
  {
   "cell_type": "code",
   "execution_count": 5,
   "metadata": {},
   "outputs": [],
   "source": [
    "base_df = pd.read_csv(\"../Data/clinvar_conflicting.csv\", dtype={\"CHROM\": \"string\", \"MOTIF_NAME\": \"string\", \"HIGH_INF_POS\": \"string\"})"
   ]
  },
  {
   "cell_type": "code",
   "execution_count": 9,
   "metadata": {},
   "outputs": [
    {
     "name": "stdout",
     "output_type": "stream",
     "text": [
      "<class 'pandas.core.frame.DataFrame'>\n",
      "RangeIndex: 65188 entries, 0 to 65187\n",
      "Data columns (total 46 columns):\n",
      " #   Column              Non-Null Count  Dtype  \n",
      "---  ------              --------------  -----  \n",
      " 0   CHROM               65188 non-null  string \n",
      " 1   POS                 65188 non-null  int64  \n",
      " 2   REF                 65188 non-null  object \n",
      " 3   ALT                 65188 non-null  object \n",
      " 4   AF_ESP              65188 non-null  float64\n",
      " 5   AF_EXAC             65188 non-null  float64\n",
      " 6   AF_TGP              65188 non-null  float64\n",
      " 7   CLNDISDB            65188 non-null  object \n",
      " 8   CLNDISDBINCL        167 non-null    object \n",
      " 9   CLNDN               65188 non-null  object \n",
      " 10  CLNDNINCL           167 non-null    object \n",
      " 11  CLNHGVS             65188 non-null  object \n",
      " 12  CLNSIGINCL          167 non-null    object \n",
      " 13  CLNVC               65188 non-null  object \n",
      " 14  CLNVI               27659 non-null  object \n",
      " 15  MC                  64342 non-null  object \n",
      " 16  ORIGIN              65188 non-null  int64  \n",
      " 17  SSR                 130 non-null    float64\n",
      " 18  CLASS               65188 non-null  int64  \n",
      " 19  Allele              65188 non-null  object \n",
      " 20  Consequence         65188 non-null  object \n",
      " 21  IMPACT              65188 non-null  object \n",
      " 22  SYMBOL              65172 non-null  object \n",
      " 23  Feature_type        65174 non-null  object \n",
      " 24  Feature             65174 non-null  object \n",
      " 25  BIOTYPE             65172 non-null  object \n",
      " 26  EXON                56295 non-null  object \n",
      " 27  INTRON              8803 non-null   object \n",
      " 28  cDNA_position       56304 non-null  object \n",
      " 29  CDS_position        55233 non-null  object \n",
      " 30  Protein_position    55233 non-null  object \n",
      " 31  Amino_acids         55184 non-null  object \n",
      " 32  Codons              55184 non-null  object \n",
      " 33  DISTANCE            108 non-null    float64\n",
      " 34  STRAND              65174 non-null  float64\n",
      " 35  BAM_EDIT            31969 non-null  object \n",
      " 36  SIFT                24836 non-null  object \n",
      " 37  PolyPhen            24796 non-null  object \n",
      " 38  MOTIF_NAME          2 non-null      string \n",
      " 39  MOTIF_POS           2 non-null      float64\n",
      " 40  HIGH_INF_POS        2 non-null      string \n",
      " 41  MOTIF_SCORE_CHANGE  2 non-null      float64\n",
      " 42  LoFtool             60975 non-null  float64\n",
      " 43  CADD_PHRED          64096 non-null  float64\n",
      " 44  CADD_RAW            64096 non-null  float64\n",
      " 45  BLOSUM62            25593 non-null  float64\n",
      "dtypes: float64(12), int64(3), object(28), string(3)\n",
      "memory usage: 22.9+ MB\n"
     ]
    }
   ],
   "source": [
    "base_df.info()"
   ]
  },
  {
   "cell_type": "code",
   "execution_count": 51,
   "metadata": {},
   "outputs": [
    {
     "name": "stderr",
     "output_type": "stream",
     "text": [
      "<ipython-input-51-21dbd2f1030f>:5: SettingWithCopyWarning: \n",
      "A value is trying to be set on a copy of a slice from a DataFrame.\n",
      "Try using .loc[row_indexer,col_indexer] = value instead\n",
      "\n",
      "See the caveats in the documentation: https://pandas.pydata.org/pandas-docs/stable/user_guide/indexing.html#returning-a-view-versus-a-copy\n",
      "  reduced_df[reduced_df['CHROM'] == 'X'] = '23'\n",
      "/Users/NickPC/anaconda3/lib/python3.8/site-packages/pandas/core/indexing.py:1763: SettingWithCopyWarning: \n",
      "A value is trying to be set on a copy of a slice from a DataFrame.\n",
      "Try using .loc[row_indexer,col_indexer] = value instead\n",
      "\n",
      "See the caveats in the documentation: https://pandas.pydata.org/pandas-docs/stable/user_guide/indexing.html#returning-a-view-versus-a-copy\n",
      "  isetter(loc, value)\n",
      "<ipython-input-51-21dbd2f1030f>:6: SettingWithCopyWarning: \n",
      "A value is trying to be set on a copy of a slice from a DataFrame.\n",
      "Try using .loc[row_indexer,col_indexer] = value instead\n",
      "\n",
      "See the caveats in the documentation: https://pandas.pydata.org/pandas-docs/stable/user_guide/indexing.html#returning-a-view-versus-a-copy\n",
      "  reduced_df[reduced_df['CHROM'] == 'MT'] = '24'\n",
      "<ipython-input-51-21dbd2f1030f>:10: SettingWithCopyWarning: \n",
      "A value is trying to be set on a copy of a slice from a DataFrame.\n",
      "Try using .loc[row_indexer,col_indexer] = value instead\n",
      "\n",
      "See the caveats in the documentation: https://pandas.pydata.org/pandas-docs/stable/user_guide/indexing.html#returning-a-view-versus-a-copy\n",
      "  reduced_df[\"CHROM\"] = pd.to_numeric(reduced_df[\"CHROM\"])\n",
      "/Users/NickPC/anaconda3/lib/python3.8/site-packages/pandas/core/frame.py:4167: SettingWithCopyWarning: \n",
      "A value is trying to be set on a copy of a slice from a DataFrame\n",
      "\n",
      "See the caveats in the documentation: https://pandas.pydata.org/pandas-docs/stable/user_guide/indexing.html#returning-a-view-versus-a-copy\n",
      "  return super().drop(\n"
     ]
    },
    {
     "name": "stdout",
     "output_type": "stream",
     "text": [
      "4\n",
      "C    21158\n",
      "G    20678\n",
      "A     9616\n",
      "T     9138\n",
      "Name: REF, dtype: int64\n",
      "0    45162\n",
      "1    15428\n",
      "Name: CLASS, dtype: int64\n"
     ]
    }
   ],
   "source": [
    "# reduce the data frame and do some basic cleaning, start with just a few bare features\n",
    "\n",
    "#     - CHROM, REF, ALT, AF_*, CLNVC, ORIGIN, CLASS, Allele, Consequence, IMPACT, STRAND\n",
    "reduced_df = base_df[['CHROM', 'REF', 'CLASS']]\n",
    "reduced_df[reduced_df['CHROM'] == 'X'] = '23'\n",
    "reduced_df[reduced_df['CHROM'] == 'MT'] = '24'\n",
    "# reduced_df['CHROM'].unique()\n",
    "# reduced_df.astype({'CHROM': 'int64'})\n",
    "# reduced_df['CHROM'].unique()\n",
    "reduced_df[\"CHROM\"] = pd.to_numeric(reduced_df[\"CHROM\"])\n",
    "\n",
    "# dropping MT rows (after it was converted to 24)\n",
    "reduced_df.drop(reduced_df[reduced_df['CHROM'] == 24].index, inplace=True)\n",
    "\n",
    "# drop rows where REF is not one of the main 4 (for others there are not many rows, could maybe combine them though in the future somehow)\n",
    "main_alleles = ['C', 'G', 'A', 'T']\n",
    "reduced_df = reduced_df[reduced_df['REF'].isin(main_alleles)]\n",
    "\n",
    "print(reduced_df['REF'].nunique())\n",
    "with pd.option_context('display.max_rows', 2000):\n",
    "    print(reduced_df['REF'].value_counts())\n",
    "\n",
    "print(reduced_df['CLASS'].value_counts())"
   ]
  },
  {
   "cell_type": "code",
   "execution_count": 50,
   "metadata": {},
   "outputs": [
    {
     "name": "stdout",
     "output_type": "stream",
     "text": [
      "4\n",
      "C    21158\n",
      "G    20678\n",
      "A     9616\n",
      "T     9138\n",
      "Name: REF, dtype: int64\n"
     ]
    }
   ],
   "source": [
    "# need to do one-hot-encoding of allele type to turn it into a useful variable\n",
    "# or can maybe use Pandas built in functions, Pandas.Categorical...\n",
    "\n",
    "reduced_df.loc[:, 'REF'] = reduced_df['REF'].astype('category')\n",
    "\n",
    "print(reduced_df['REF'].nunique())\n",
    "print(reduced_df['REF'].value_counts())"
   ]
  },
  {
   "cell_type": "code",
   "execution_count": 48,
   "metadata": {},
   "outputs": [],
   "source": [
    "df_train, df_test = train_test_split(reduced_df, test_size=0.2, random_state=42)"
   ]
  },
  {
   "cell_type": "code",
   "execution_count": 49,
   "metadata": {},
   "outputs": [
    {
     "data": {
      "image/png": "[encoded data removed]",
      "text/plain": [
       "<Figure size 165.435x108 with 2 Axes>"
      ]
     },
     "metadata": {},
     "output_type": "display_data"
    }
   ],
   "source": [
    "sns.pairplot(df_train, corner=True, height=1.5, plot_kws={'size': 3}, hue='CLASS');"
   ]
  },
  {
   "cell_type": "code",
   "execution_count": null,
   "metadata": {},
   "outputs": [],
   "source": []
  }
 ],
 "metadata": {
  "kernelspec": {
   "display_name": "Python 3",
   "language": "python",
   "name": "python3"
  },
  "language_info": {
   "codemirror_mode": {
    "name": "ipython",
    "version": 3
   },
   "file_extension": ".py",
   "mimetype": "text/x-python",
   "name": "python",
   "nbconvert_exporter": "python",
   "pygments_lexer": "ipython3",
   "version": "3.8.5"
  }
 },
 "nbformat": 4,
 "nbformat_minor": 4
}
