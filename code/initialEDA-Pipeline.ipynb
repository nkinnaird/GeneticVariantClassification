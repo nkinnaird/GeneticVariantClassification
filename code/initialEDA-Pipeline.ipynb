{
 "cells": [
  {
   "cell_type": "code",
   "execution_count": 1,
   "metadata": {},
   "outputs": [],
   "source": [
    "import pandas as pd\n",
    "import numpy as np\n",
    "import scipy.stats as st\n",
    "\n",
    "from sklearn.model_selection import train_test_split, GridSearchCV, cross_validate\n",
    "\n",
    "from sklearn.dummy import DummyClassifier\n",
    "# from sklearn.linear_model import LogisticRegression\n",
    "from sklearn.neighbors import KNeighborsClassifier\n",
    "from sklearn import metrics # # from sklearn.metrics import roc_auc_score, confusion_matrix, roc_curve\n",
    "# from sklearn.svm import LinearSVC, SVC\n",
    "from sklearn.tree import DecisionTreeClassifier\n",
    "from sklearn.ensemble import RandomForestClassifier\n",
    "import xgboost as xgb\n",
    "\n",
    "from sklearn.preprocessing import StandardScaler, OneHotEncoder, LabelEncoder\n",
    "from sklearn.compose import ColumnTransformer\n",
    "from sklearn.pipeline import Pipeline\n",
    "\n",
    "import matplotlib.pyplot as plt\n",
    "import seaborn as sns\n",
    "\n",
    "import modelEvalUtils as meu\n",
    "\n",
    "from feature_importance import FeatureImportance\n",
    "\n",
    "\n",
    "# %config InlineBackend.figure_formats = ['svg']\n",
    "%matplotlib inline\n",
    "\n",
    "plt.rcParams['figure.figsize'] = (9, 6)\n",
    "sns.set(context='notebook', style='whitegrid', font_scale=1.2)"
   ]
  },
  {
   "cell_type": "code",
   "execution_count": 2,
   "metadata": {},
   "outputs": [],
   "source": [
    "base_df = pd.read_csv(\"../Data/clinvar_conflicting.csv\", dtype={\"CHROM\": \"string\", \"MOTIF_NAME\": \"string\", \"HIGH_INF_POS\": \"string\"})"
   ]
  },
  {
   "cell_type": "code",
   "execution_count": 3,
   "metadata": {},
   "outputs": [
    {
     "name": "stdout",
     "output_type": "stream",
     "text": [
      "<class 'pandas.core.frame.DataFrame'>\n",
      "RangeIndex: 65188 entries, 0 to 65187\n",
      "Data columns (total 46 columns):\n",
      " #   Column              Non-Null Count  Dtype  \n",
      "---  ------              --------------  -----  \n",
      " 0   CHROM               65188 non-null  string \n",
      " 1   POS                 65188 non-null  int64  \n",
      " 2   REF                 65188 non-null  object \n",
      " 3   ALT                 65188 non-null  object \n",
      " 4   AF_ESP              65188 non-null  float64\n",
      " 5   AF_EXAC             65188 non-null  float64\n",
      " 6   AF_TGP              65188 non-null  float64\n",
      " 7   CLNDISDB            65188 non-null  object \n",
      " 8   CLNDISDBINCL        167 non-null    object \n",
      " 9   CLNDN               65188 non-null  object \n",
      " 10  CLNDNINCL           167 non-null    object \n",
      " 11  CLNHGVS             65188 non-null  object \n",
      " 12  CLNSIGINCL          167 non-null    object \n",
      " 13  CLNVC               65188 non-null  object \n",
      " 14  CLNVI               27659 non-null  object \n",
      " 15  MC                  64342 non-null  object \n",
      " 16  ORIGIN              65188 non-null  int64  \n",
      " 17  SSR                 130 non-null    float64\n",
      " 18  CLASS               65188 non-null  int64  \n",
      " 19  Allele              65188 non-null  object \n",
      " 20  Consequence         65188 non-null  object \n",
      " 21  IMPACT              65188 non-null  object \n",
      " 22  SYMBOL              65172 non-null  object \n",
      " 23  Feature_type        65174 non-null  object \n",
      " 24  Feature             65174 non-null  object \n",
      " 25  BIOTYPE             65172 non-null  object \n",
      " 26  EXON                56295 non-null  object \n",
      " 27  INTRON              8803 non-null   object \n",
      " 28  cDNA_position       56304 non-null  object \n",
      " 29  CDS_position        55233 non-null  object \n",
      " 30  Protein_position    55233 non-null  object \n",
      " 31  Amino_acids         55184 non-null  object \n",
      " 32  Codons              55184 non-null  object \n",
      " 33  DISTANCE            108 non-null    float64\n",
      " 34  STRAND              65174 non-null  float64\n",
      " 35  BAM_EDIT            31969 non-null  object \n",
      " 36  SIFT                24836 non-null  object \n",
      " 37  PolyPhen            24796 non-null  object \n",
      " 38  MOTIF_NAME          2 non-null      string \n",
      " 39  MOTIF_POS           2 non-null      float64\n",
      " 40  HIGH_INF_POS        2 non-null      string \n",
      " 41  MOTIF_SCORE_CHANGE  2 non-null      float64\n",
      " 42  LoFtool             60975 non-null  float64\n",
      " 43  CADD_PHRED          64096 non-null  float64\n",
      " 44  CADD_RAW            64096 non-null  float64\n",
      " 45  BLOSUM62            25593 non-null  float64\n",
      "dtypes: float64(12), int64(3), object(28), string(3)\n",
      "memory usage: 22.9+ MB\n"
     ]
    }
   ],
   "source": [
    "base_df.info()"
   ]
  },
  {
   "cell_type": "code",
   "execution_count": 4,
   "metadata": {},
   "outputs": [
    {
     "name": "stdout",
     "output_type": "stream",
     "text": [
      "<class 'pandas.core.frame.DataFrame'>\n",
      "Int64Index: 64096 entries, 0 to 65187\n",
      "Data columns (total 5 columns):\n",
      " #   Column      Non-Null Count  Dtype  \n",
      "---  ------      --------------  -----  \n",
      " 0   CLASS       64096 non-null  int64  \n",
      " 1   CHROM       64096 non-null  string \n",
      " 2   REF         64096 non-null  object \n",
      " 3   ALT         64096 non-null  object \n",
      " 4   CADD_PHRED  64096 non-null  float64\n",
      "dtypes: float64(1), int64(1), object(2), string(1)\n",
      "memory usage: 2.9+ MB\n"
     ]
    },
    {
     "name": "stderr",
     "output_type": "stream",
     "text": [
      "<ipython-input-4-7c45b7ea8a38>:23: SettingWithCopyWarning: \n",
      "A value is trying to be set on a copy of a slice from a DataFrame\n",
      "\n",
      "See the caveats in the documentation: https://pandas.pydata.org/pandas-docs/stable/user_guide/indexing.html#returning-a-view-versus-a-copy\n",
      "  reduced_df.dropna(inplace=True)\n",
      "/Users/NickPC/anaconda3/lib/python3.8/site-packages/pandas/core/indexing.py:1763: SettingWithCopyWarning: \n",
      "A value is trying to be set on a copy of a slice from a DataFrame.\n",
      "Try using .loc[row_indexer,col_indexer] = value instead\n",
      "\n",
      "See the caveats in the documentation: https://pandas.pydata.org/pandas-docs/stable/user_guide/indexing.html#returning-a-view-versus-a-copy\n",
      "  isetter(loc, value)\n",
      "/Users/NickPC/anaconda3/lib/python3.8/site-packages/pandas/core/indexing.py:1763: SettingWithCopyWarning: \n",
      "A value is trying to be set on a copy of a slice from a DataFrame.\n",
      "Try using .loc[row_indexer,col_indexer] = value instead\n",
      "\n",
      "See the caveats in the documentation: https://pandas.pydata.org/pandas-docs/stable/user_guide/indexing.html#returning-a-view-versus-a-copy\n",
      "  isetter(loc, value)\n"
     ]
    }
   ],
   "source": [
    "# reduce the data frame and do some basic cleaning, start with just a few bare features\n",
    "\n",
    "# features to test first:\n",
    "#     - CHROM, REF, ALT, AF_*, CLNVC, ORIGIN, CLASS, Allele, Consequence, IMPACT, STRAND\n",
    "\n",
    "# features which don't seem to be super useful (maybe they would be when all together)\n",
    "# CHROM, REF, ALT, CLNVC, ORIGIN, Consequence, IMPACT (seems like this should be at a least a little useful), STRAND\n",
    "\n",
    "# select features\n",
    "\n",
    "target_var = ['CLASS']\n",
    "# other_features = ['CHROM']\n",
    "# categorical_features = ['REF', 'ALT']\n",
    "other_features = []\n",
    "categorical_features = ['CHROM', 'REF', 'ALT']\n",
    "numeric_features = ['CADD_PHRED']\n",
    "\n",
    "reduced_df = base_df[target_var + other_features + categorical_features + numeric_features]\n",
    "\n",
    "# feature cleaing/adjustment below here\n",
    "\n",
    "# drop nulls\n",
    "reduced_df.dropna(inplace=True)\n",
    "\n",
    "# CHROM - turn CHROM strings into numbers\n",
    "# reduced_df.loc[reduced_df['CHROM'] == 'X', 'CHROM'] = '23'\n",
    "# reduced_df.loc[reduced_df['CHROM'] == 'MT', 'CHROM'] = '24'\n",
    "# reduced_df[\"CHROM\"] = pd.to_numeric(reduced_df[\"CHROM\"])\n",
    "\n",
    "    # dropping MT rows (after it was converted to 24)\n",
    "    # reduced_df.drop(reduced_df[reduced_df['CHROM'] == 24].index, inplace=True)\n",
    "\n",
    "# REF, ALT - lots of alleles with more than one type, combine them all as \"2+\" instead of dropping them like below\n",
    "reduced_df.loc[reduced_df['REF'].str.len() > 1, 'REF'] = '2+'\n",
    "reduced_df.loc[reduced_df['ALT'].str.len() > 1, 'ALT'] = '2+'\n",
    "# reduced_df['REF'] = reduced_df['REF'].astype(str)\n",
    "# reduced_df['ALT'] = reduced_df['ALT'].astype(str)\n",
    "\n",
    "    # drop rows where REF is not one of the main 4 (for others there are not many rows, could maybe combine them though in the future somehow)\n",
    "    # main_alleles = ['C', 'G', 'A', 'T']\n",
    "    # reduced_df = reduced_df[reduced_df['REF'].isin(main_alleles)]\n",
    "\n",
    "# ORIGIN - combine ORIGIN values if they are more than 1 (too many of them, and they are a sum of the smaller parts, making it difficult to split them out - could try and do that though)\n",
    "# reduced_df['ORIGIN'] = reduced_df['ORIGIN'].astype(str)\n",
    "# reduced_df.loc[reduced_df['ORIGIN'] != '1', 'ORIGIN'] = '1+'\n",
    "    # try dropping most common one to see if there are any trends for the lesser count categories\n",
    "    # reduced_df.drop(reduced_df[reduced_df['ORIGIN'] == 1].index, inplace=True)\n",
    "\n",
    "# Consequence - drop those with less than 100 counts\n",
    "# reduced_df = reduced_df.groupby('Consequence').filter(lambda x : len(x)>100)\n",
    "\n",
    "# print('Column type:', type(reduced_df.iloc[0][test_var]))\n",
    "# print('Num categores:', reduced_df[test_var].nunique())\n",
    "# with pd.option_context('display.max_rows', 20000):\n",
    "#     print(reduced_df[test_var].value_counts())\n",
    "\n",
    "\n",
    "# print(reduced_df['CLASS'].unique())\n",
    "# print(reduced_df['CLASS'].value_counts())\n",
    "\n",
    "reduced_df.info()"
   ]
  },
  {
   "cell_type": "code",
   "execution_count": 5,
   "metadata": {},
   "outputs": [],
   "source": [
    "# check categorical variables vs conflicting or not to try and find some predictive features - do this before encoding so there are less plots to make\n",
    "# for col in reduced_df.columns:\n",
    "#     if(col == 'CLASS' or col == 'CADD_PHRED'): continue\n",
    "#     plt.figure()\n",
    "#     counts = (reduced_df.groupby(['CLASS'])[col]\n",
    "#                      .value_counts(normalize=True)\n",
    "#                      .rename('percentage')\n",
    "#                      .mul(100)\n",
    "#                      .reset_index()\n",
    "#                      .sort_values(col))\n",
    "#     sns.barplot(x=col, y=\"percentage\", hue=\"CLASS\", data=counts)\n"
   ]
  },
  {
   "cell_type": "code",
   "execution_count": 6,
   "metadata": {},
   "outputs": [],
   "source": [
    "# sns.scatterplot(df_train, corner=True, height=1.5, plot_kws={'size': 3}, hue='CLASS');"
   ]
  },
  {
   "cell_type": "code",
   "execution_count": 7,
   "metadata": {},
   "outputs": [],
   "source": [
    "# columns_to_encode = list(reduced_df.columns)\n",
    "# columns_to_encode.remove('CLASS')\n",
    "# columns_to_encode.remove('CHROM')\n",
    "# columns_to_encode.remove('CADD_PHRED')\n",
    "# columns_to_encode"
   ]
  },
  {
   "cell_type": "code",
   "execution_count": 8,
   "metadata": {},
   "outputs": [],
   "source": [
    "# encode REF column \n",
    "# encoded_df = pd.get_dummies(reduced_df, prefix=['CHROM', 'REF', 'ALT', test_var], columns=['CHROM', 'REF', 'ALT', test_var])\n",
    "# encoded_df = pd.get_dummies(reduced_df, prefix=['REF', 'ALT', 'CLNVC', 'ORIGIN', 'Consequence'], columns=['REF', 'ALT', 'CLNVC', 'ORIGIN', 'Consequence'])\n",
    "# encoded_df = pd.get_dummies(reduced_df, prefix=['REF', 'ALT', 'Consequence', test_var], columns=['REF', 'ALT', 'Consequence', test_var])\n",
    "# encoded_df = pd.get_dummies(reduced_df, prefix=['REF', 'ALT', test_var], columns=['REF', 'ALT', test_var])\n",
    "# encoded_df = pd.get_dummies(reduced_df, prefix=columns_to_encode, columns=columns_to_encode)\n",
    "# encoded_df"
   ]
  },
  {
   "cell_type": "code",
   "execution_count": 9,
   "metadata": {},
   "outputs": [],
   "source": [
    "# split data into test and train sets\n",
    "# df_train, df_test = train_test_split(reduced_df, test_size=0.2, random_state=55)\n",
    "# df_train, df_test = train_test_split(encoded_df, test_size=0.2, random_state=55)"
   ]
  },
  {
   "cell_type": "code",
   "execution_count": 10,
   "metadata": {},
   "outputs": [],
   "source": [
    "# sns.pairplot(df_train, corner=True, height=1.5, plot_kws={'size': 3}, hue='CLASS');"
   ]
  },
  {
   "cell_type": "code",
   "execution_count": 11,
   "metadata": {},
   "outputs": [],
   "source": [
    "# sns.kdeplot(df_train['CHROM'], hue=df_train['CLASS'])\n",
    "# sns.kdeplot(df_train.loc[df_train['CLASS'] == 0, 'CHROM'], color='r')\n",
    "# sns.kdeplot(df_train.loc[df_train['CLASS'] == 1, 'CHROM'], color='b')"
   ]
  },
  {
   "cell_type": "code",
   "execution_count": 12,
   "metadata": {},
   "outputs": [],
   "source": [
    "# sns.countplot(df_train.loc[df_train['CLASS'] == 0, 'CHROM'], color='r')\n",
    "# sns.countplot(df_train.loc[df_train['CLASS'] == 1, 'CHROM'], color='b')"
   ]
  },
  {
   "cell_type": "code",
   "execution_count": 13,
   "metadata": {},
   "outputs": [],
   "source": [
    "# stop"
   ]
  },
  {
   "cell_type": "code",
   "execution_count": 14,
   "metadata": {},
   "outputs": [],
   "source": [
    "# split out features and target for models\n",
    "\n",
    "feature_data = reduced_df.drop('CLASS', axis=1)\n",
    "target_data = reduced_df['CLASS']\n",
    "\n",
    "feature_data.reset_index(inplace=True, drop=True)\n",
    "target_data.reset_index(inplace=True, drop=True)"
   ]
  },
  {
   "cell_type": "code",
   "execution_count": 15,
   "metadata": {},
   "outputs": [],
   "source": [
    "\n",
    "numeric_transformer = StandardScaler()\n",
    "fake_transformer = StandardScaler(with_mean=False, with_std=False) # the class I'm using to print feature importance will drop those columns which don't get transformer, so just put a fake one in which does nothing\n",
    "\n",
    "# categorical_transformer = OneHotEncoder(handle_unknown='ignore')\n",
    "categorical_transformer = OneHotEncoder(handle_unknown='ignore', sparse=False)\n",
    "\n",
    "kNN_preprocessor = ColumnTransformer(\n",
    "    transformers=[\n",
    "        ('num', numeric_transformer, numeric_features),\n",
    "        ('cat', categorical_transformer, categorical_features)], \n",
    "    remainder='passthrough')\n",
    "\n",
    "tree_preprocessor = ColumnTransformer(\n",
    "    transformers=[\n",
    "        ('num', fake_transformer, numeric_features),\n",
    "        ('cat', categorical_transformer, categorical_features)],\n",
    "    remainder='passthrough')\n"
   ]
  },
  {
   "cell_type": "code",
   "execution_count": 16,
   "metadata": {},
   "outputs": [],
   "source": [
    "# various models\n",
    "dummy_model = DummyClassifier(strategy=\"most_frequent\")\n",
    "knn_model = KNeighborsClassifier(n_neighbors=3)\n",
    "dt_model = DecisionTreeClassifier(max_depth=4, random_state=121)\n",
    "rf_model = RandomForestClassifier(n_estimators=10, random_state=121)\n",
    "\n",
    "gb_model = xgb.XGBClassifier( \n",
    "            n_estimators=30000,\n",
    "            max_depth=4,\n",
    "            objective='binary:logistic', #new objective\n",
    "            use_label_encoder=False,\n",
    "            learning_rate=.05, \n",
    "            subsample=.8,\n",
    "            min_child_weight=3,\n",
    "            colsample_bytree=.8)\n",
    "            \n",
    "\n",
    "base_models = [\"dummy_model\", \"knn_model\"]\n",
    "tree_models = [\"dt_model\", \"rf_model\"]#, \"gb_model\"]"
   ]
  },
  {
   "cell_type": "code",
   "execution_count": null,
   "metadata": {},
   "outputs": [
    {
     "name": "stdout",
     "output_type": "stream",
     "text": [
      "Current model is:  dummy_model\n",
      "Cross validation scores:\n",
      " [0. 0. 0. 0. 0.]\n"
     ]
    },
    {
     "name": "stderr",
     "output_type": "stream",
     "text": [
      "/Users/NickPC/anaconda3/lib/python3.8/site-packages/sklearn/metrics/_classification.py:1221: UndefinedMetricWarning: Precision and F-score are ill-defined and being set to 0.0 in labels with no predicted samples. Use `zero_division` parameter to control this behavior.\n",
      "  _warn_prf(average, modifier, msg_start, len(result))\n"
     ]
    },
    {
     "name": "stdout",
     "output_type": "stream",
     "text": [
      "              precision    recall  f1-score   support\n",
      "\n",
      "           0       0.75      1.00      0.85     38277\n",
      "           1       0.00      0.00      0.00     12999\n",
      "\n",
      "    accuracy                           0.75     51276\n",
      "   macro avg       0.37      0.50      0.43     51276\n",
      "weighted avg       0.56      0.75      0.64     51276\n",
      "\n"
     ]
    },
    {
     "data": {
      "image/png": "[encoded data removed]",
      "text/plain": [
       "<Figure size 648x432 with 2 Axes>"
      ]
     },
     "metadata": {},
     "output_type": "display_data"
    },
    {
     "name": "stderr",
     "output_type": "stream",
     "text": [
      "/Users/NickPC/anaconda3/lib/python3.8/site-packages/sklearn/metrics/_classification.py:1221: UndefinedMetricWarning: Precision and F-score are ill-defined and being set to 0.0 in labels with no predicted samples. Use `zero_division` parameter to control this behavior.\n",
      "  _warn_prf(average, modifier, msg_start, len(result))\n"
     ]
    },
    {
     "name": "stdout",
     "output_type": "stream",
     "text": [
      "              precision    recall  f1-score   support\n",
      "\n",
      "           0       0.74      1.00      0.85      9515\n",
      "           1       0.00      0.00      0.00      3305\n",
      "\n",
      "    accuracy                           0.74     12820\n",
      "   macro avg       0.37      0.50      0.43     12820\n",
      "weighted avg       0.55      0.74      0.63     12820\n",
      "\n"
     ]
    },
    {
     "data": {
      "image/png": "[encoded data removed]",
      "text/plain": [
       "<Figure size 648x432 with 2 Axes>"
      ]
     },
     "metadata": {},
     "output_type": "display_data"
    },
    {
     "name": "stdout",
     "output_type": "stream",
     "text": [
      "Current model is:  knn_model\n"
     ]
    }
   ],
   "source": [
    "# run over base models\n",
    "for model_name in base_models:\n",
    "    print('Current model is: ', model_name)\n",
    "\n",
    "    kNN_pipeline = Pipeline(steps=[('kNN_preprocessor', kNN_preprocessor),\n",
    "                                   ('classifier', eval(model_name))])    \n",
    "    \n",
    "    X_train, X_test, y_train, y_test = train_test_split(feature_data, target_data, test_size=0.2, random_state=55)\n",
    "\n",
    "    \n",
    "    scores = cross_validate(kNN_pipeline, X_train, y_train,\n",
    "#                          scoring='f1_macro',\n",
    "                         scoring='recall',\n",
    "                         return_estimator=True)\n",
    "    \n",
    "    print('Cross validation scores:\\n', scores['test_score'])\n",
    "    \n",
    "    kNN_pipeline.fit(X_train, y_train)\n",
    "    y_pred = kNN_pipeline.predict(X_train)\n",
    "    meu.printMetricsAndConfMat(y_train, y_pred, model_name + \" Train\")\n",
    "    \n",
    "    y_test_pred = kNN_pipeline.predict(X_test)\n",
    "    meu.printMetricsAndConfMat(y_test, y_test_pred, model_name + \" Test\")\n",
    "    "
   ]
  },
  {
   "cell_type": "code",
   "execution_count": null,
   "metadata": {},
   "outputs": [],
   "source": [
    "# run over tree models\n",
    "for model_name in tree_models:\n",
    "    print('Current model is: ', model_name)\n",
    "\n",
    "    tree_pipeline = Pipeline(steps=[('tree_preprocessor', tree_preprocessor),\n",
    "                                    ('classifier', eval(model_name))])  \n",
    "    \n",
    "    X_train, X_test, y_train, y_test = train_test_split(feature_data, target_data, test_size=0.2, random_state=55)\n",
    "        \n",
    "    scores = cross_validate(tree_pipeline, X_train, y_train,\n",
    "#                          scoring='f1_macro',\n",
    "                         scoring='recall',\n",
    "                         return_estimator=True)\n",
    "    \n",
    "    print('Cross validation scores:\\n', scores['test_score'])        \n",
    "        \n",
    "    tree_pipeline.fit(X_train, y_train)\n",
    "    y_pred = tree_pipeline.predict(X_train)\n",
    "    meu.printMetricsAndConfMat(y_train, y_pred, model_name + \" Train\")\n",
    "    \n",
    "#     print('\\n', 'Feature importance check: ', tree_pipeline.steps[1][1].feature_importances_.shape, '\\n')\n",
    "#     print('\\n', 'Feature importance check: ', tree_pipeline.steps[1][1].get_feature_names().shape, '\\n')\n",
    "\n",
    "    feature_importance = FeatureImportance(tree_pipeline)\n",
    "    feature_importance.plot(height=800, top_n_features=25)\n",
    "    \n",
    "    \n",
    "#     def plot(self, top_n_features=100, rank_features=True, max_scale=True, \n",
    "#              display_imp_values=True, display_imp_value_decimals=1,\n",
    "#              height_per_feature=25, orientation='h', width=750, height=None, \n",
    "#              str_pad_width=15, yaxes_tickfont_family='Courier New', \n",
    "#              yaxes_tickfont_size=15):\n",
    "    \n",
    "\n",
    "    y_test_pred = tree_pipeline.predict(X_test)\n",
    "    meu.printMetricsAndConfMat(y_test, y_test_pred, model_name + \" Test\")\n",
    "  "
   ]
  },
  {
   "cell_type": "code",
   "execution_count": null,
   "metadata": {},
   "outputs": [],
   "source": []
  },
  {
   "cell_type": "code",
   "execution_count": null,
   "metadata": {},
   "outputs": [],
   "source": []
  },
  {
   "cell_type": "code",
   "execution_count": null,
   "metadata": {},
   "outputs": [],
   "source": []
  },
  {
   "cell_type": "code",
   "execution_count": null,
   "metadata": {},
   "outputs": [],
   "source": []
  },
  {
   "cell_type": "code",
   "execution_count": null,
   "metadata": {},
   "outputs": [],
   "source": [
    "# from sklearn.base import BaseEstimator, TransformerMixin\n",
    "\n",
    "# class DFChecker(BaseEstimator, TransformerMixin):\n",
    "#     def __init__(self, numberCheck):\n",
    "#         print('Calling init!', numberCheck, ' \\n')\n",
    "#         self.numberCheck = numberCheck\n",
    "        \n",
    "#     def fit(self, x, y = None):\n",
    "#         print('Calling fit!', self.numberCheck, ' \\n')\n",
    "        \n",
    "#         print(x.shape)\n",
    "#         if(self.numberCheck == 1):\n",
    "#             print(x.iloc[0])\n",
    "#         else:\n",
    "#             print(x[0])\n",
    "        \n",
    "#         return self\n",
    "    \n",
    "#     def transform(self, x, y = None):\n",
    "#         print('Calling transform!', self.numberCheck, ' \\n')\n",
    "#         x_ = x.copy()\n",
    "        \n",
    "#         print(x_.shape)\n",
    "#         if(self.numberCheck == 1):\n",
    "#             print(x_.iloc[0])\n",
    "#         else:\n",
    "#             print(x_[0])\n",
    "            \n",
    "#         return x_"
   ]
  },
  {
   "cell_type": "code",
   "execution_count": null,
   "metadata": {},
   "outputs": [],
   "source": []
  },
  {
   "cell_type": "code",
   "execution_count": null,
   "metadata": {},
   "outputs": [],
   "source": [
    "# some potentially relevant code for doing cross validation with many models \n",
    "\n",
    "# for i in test_range:\n",
    "#     cv_out = cross_validate(\n",
    "#         estimator=BaggingRegressor(DecisionTreeRegressor(random_state=123), \n",
    "#                                    n_estimators=i),\n",
    "#         X=X_train,\n",
    "#         y=y_train,\n",
    "#         cv=3,\n",
    "#         return_train_score=True,\n",
    "#         scoring={\n",
    "#             \"variance\": make_scorer(variance_metric),\n",
    "#             \"bias\": make_scorer(bias_metric)\n",
    "#         },\n",
    "#         n_jobs=-1,  #Possible issues if sklearn.__version__ < 0.20.1; If error, switch to n_jobs=1\n",
    "#     )\n",
    "#     variance.append(np.mean(cv_out['test_variance']))\n",
    "#     bias.append(np.mean(cv_out['test_bias']))"
   ]
  }
 ],
 "metadata": {
  "kernelspec": {
   "display_name": "Python 3",
   "language": "python",
   "name": "python3"
  },
  "language_info": {
   "codemirror_mode": {
    "name": "ipython",
    "version": 3
   },
   "file_extension": ".py",
   "mimetype": "text/x-python",
   "name": "python",
   "nbconvert_exporter": "python",
   "pygments_lexer": "ipython3",
   "version": "3.8.5"
  }
 },
 "nbformat": 4,
 "nbformat_minor": 4
}
